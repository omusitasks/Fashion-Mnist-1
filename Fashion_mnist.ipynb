{
  "nbformat": 4,
  "nbformat_minor": 0,
  "metadata": {
    "colab": {
      "name": "Fashion-mnist.ipynb",
      "provenance": [],
      "toc_visible": true
    },
    "kernelspec": {
      "name": "python3",
      "display_name": "Python 3"
    },
    "language_info": {
      "name": "python"
    },
    "accelerator": "GPU",
    "gpuClass": "standard"
  },
  "cells": [
    {
      "cell_type": "markdown",
      "source": [
        "# Comparison of KNN, Single layer NN and CNN using Fashion-mnist"
      ],
      "metadata": {
        "id": "dEfszOQPGqyR"
      }
    },
    {
      "cell_type": "markdown",
      "source": [
        "In this committee notebook I will be using the Fashion mnist dataset to carry out a comparison between K nearest neighbours, a Single-layered neural network and a Convulotional neural network"
      ],
      "metadata": {
        "id": "V6MXT_q7xojc"
      }
    },
    {
      "cell_type": "markdown",
      "source": [
        "## Importing Dependecies\n",
        "We start off by import the neccesary libraries."
      ],
      "metadata": {
        "id": "UErA09TwEtu3"
      }
    },
    {
      "cell_type": "code",
      "execution_count": 1,
      "metadata": {
        "id": "US0A4I2fvxqH"
      },
      "outputs": [],
      "source": [
        "import tensorflow as tf\n",
        "import pandas as pd\n",
        "import matplotlib.pyplot as plt\n",
        "import seaborn as sns\n",
        "import numpy as np\n",
        "import keras\n",
        "import tensorflow as tf\n",
        "from keras.models import Sequential\n",
        "from keras.layers import Conv2D, MaxPooling2D, Flatten, Dense, Dropout"
      ]
    },
    {
      "cell_type": "markdown",
      "source": [
        "## Loading our Dataset\n",
        "Next up we load our dataset using Tensorflow's dataset repository"
      ],
      "metadata": {
        "id": "6z9FfbCNExSv"
      }
    },
    {
      "cell_type": "code",
      "source": [
        "(x_train, y_train), (x_test, y_test) = tf.keras.datasets.fashion_mnist.load_data()"
      ],
      "metadata": {
        "id": "HlJ_ixnywAwl",
        "colab": {
          "base_uri": "https://localhost:8080/"
        },
        "outputId": "c469b915-e53e-4965-dd3b-111830957d51"
      },
      "execution_count": 2,
      "outputs": [
        {
          "output_type": "stream",
          "name": "stdout",
          "text": [
            "Downloading data from https://storage.googleapis.com/tensorflow/tf-keras-datasets/train-labels-idx1-ubyte.gz\n",
            "29515/29515 [==============================] - 0s 0us/step\n",
            "Downloading data from https://storage.googleapis.com/tensorflow/tf-keras-datasets/train-images-idx3-ubyte.gz\n",
            "26421880/26421880 [==============================] - 1s 0us/step\n",
            "Downloading data from https://storage.googleapis.com/tensorflow/tf-keras-datasets/t10k-labels-idx1-ubyte.gz\n",
            "5148/5148 [==============================] - 0s 0us/step\n",
            "Downloading data from https://storage.googleapis.com/tensorflow/tf-keras-datasets/t10k-images-idx3-ubyte.gz\n",
            "4422102/4422102 [==============================] - 0s 0us/step\n"
          ]
        }
      ]
    },
    {
      "cell_type": "code",
      "source": [
        "# Let us take a look at the datatype of the dataset\n",
        "print(type(x_train))"
      ],
      "metadata": {
        "colab": {
          "base_uri": "https://localhost:8080/"
        },
        "id": "XzS_0IGKweOW",
        "outputId": "c08d9152-fb01-4fbc-9856-d7a384aa9df9"
      },
      "execution_count": 3,
      "outputs": [
        {
          "output_type": "stream",
          "name": "stdout",
          "text": [
            "<class 'numpy.ndarray'>\n"
          ]
        }
      ]
    },
    {
      "cell_type": "markdown",
      "source": [
        "So we have an N dimensional numpy array.\n",
        "\n",
        "---\n",
        "\n",
        "Now lets look at the shape of Train and Test datasets"
      ],
      "metadata": {
        "id": "t5ndfSp6FNiB"
      }
    },
    {
      "cell_type": "code",
      "source": [
        "print(x_train.shape, x_test.shape)"
      ],
      "metadata": {
        "colab": {
          "base_uri": "https://localhost:8080/"
        },
        "id": "wuZ2P5l-wfRJ",
        "outputId": "fc704589-9dc4-4ca4-f54c-6e0d31aa9745"
      },
      "execution_count": 4,
      "outputs": [
        {
          "output_type": "stream",
          "name": "stdout",
          "text": [
            "(60000, 28, 28) (10000, 28, 28)\n"
          ]
        }
      ]
    },
    {
      "cell_type": "code",
      "source": [
        "img_size = x_train.shape[1]"
      ],
      "metadata": {
        "id": "fCOQaCGOFYfp"
      },
      "execution_count": 5,
      "outputs": []
    },
    {
      "cell_type": "markdown",
      "source": [
        "We need a 2d numpy array to apply K nearest Neighbours classifier so we reshape our dataset."
      ],
      "metadata": {
        "id": "mX7qaQSnFBMY"
      }
    },
    {
      "cell_type": "code",
      "source": [
        "x_train = x_train.reshape((x_train.shape[0],-1))\n",
        "x_test = x_test.reshape((x_test.shape[0],-1))"
      ],
      "metadata": {
        "id": "gBUK4pLyx8Yn"
      },
      "execution_count": 6,
      "outputs": []
    },
    {
      "cell_type": "code",
      "source": [
        "print(x_train.shape, x_test.shape)"
      ],
      "metadata": {
        "colab": {
          "base_uri": "https://localhost:8080/"
        },
        "id": "ObJczenq2FdL",
        "outputId": "a07d7d5c-8cee-49bb-9ece-4081fbfbf9bf"
      },
      "execution_count": 7,
      "outputs": [
        {
          "output_type": "stream",
          "name": "stdout",
          "text": [
            "(60000, 784) (10000, 784)\n"
          ]
        }
      ]
    },
    {
      "cell_type": "code",
      "source": [
        "print(y_train.shape)"
      ],
      "metadata": {
        "colab": {
          "base_uri": "https://localhost:8080/"
        },
        "id": "E4hbesbr6dcj",
        "outputId": "7eebef47-9e66-4d6b-9f3a-3dea8fd69bea"
      },
      "execution_count": 8,
      "outputs": [
        {
          "output_type": "stream",
          "name": "stdout",
          "text": [
            "(60000,)\n"
          ]
        }
      ]
    },
    {
      "cell_type": "markdown",
      "source": [
        "**Point to be noted:** Our labels are not one hot encoded\n",
        "\n",
        "\n",
        "---\n",
        " We get the class labels from the meta-deta about the dataset\n"
      ],
      "metadata": {
        "id": "1n-ZL2BGF4wE"
      }
    },
    {
      "cell_type": "code",
      "source": [
        "class_labels = ['T-shirt/top','Trouser','Pullover','Dress','Coat','Sandal','Shirt','Sneakers','Bag','Ankle boot']"
      ],
      "metadata": {
        "id": "W2Lg_3HCziXx"
      },
      "execution_count": 9,
      "outputs": []
    },
    {
      "cell_type": "markdown",
      "source": [
        "## K Nearest Neighbour Model\n",
        "### Pre-processing our Data\n",
        "First we normalize our data using Sklearn pre-processing"
      ],
      "metadata": {
        "id": "Tx6py8tQGkIV"
      }
    },
    {
      "cell_type": "code",
      "source": [
        "from sklearn.preprocessing import Normalizer\n",
        "norm = Normalizer()\n",
        "\n",
        "x_train_norm = norm.fit_transform(x_train)\n",
        "x_test_norm = norm.transform(x_test)"
      ],
      "metadata": {
        "id": "TFXi7XB2w9dH"
      },
      "execution_count": 10,
      "outputs": []
    },
    {
      "cell_type": "markdown",
      "source": [
        "**Note:** We fit the normalizer on only the train data so we do not face any overfitting. Transform is done on both as it normalizes the data while fit calculates average and standard deviation.\n",
        "\n",
        "---\n",
        "\n",
        "Next we use Sklearn's K nearest neighbours to classify the data"
      ],
      "metadata": {
        "id": "tmE8JVjKGIgD"
      }
    },
    {
      "cell_type": "markdown",
      "source": [
        "### Training the Model\n",
        "We use Sklearn's build in K neighbours Classifier to train the data."
      ],
      "metadata": {
        "id": "zOO_MbXGG6Hl"
      }
    },
    {
      "cell_type": "code",
      "source": [
        "from sklearn.neighbors import KNeighborsClassifier\n",
        "classifier = KNeighborsClassifier()\n",
        "classifier.fit(x_train_norm,y_train)"
      ],
      "metadata": {
        "colab": {
          "base_uri": "https://localhost:8080/"
        },
        "id": "KX8QHJ_Lxwk9",
        "outputId": "50a492b3-20f0-4e46-9fd2-42ada1e8c74b"
      },
      "execution_count": 11,
      "outputs": [
        {
          "output_type": "execute_result",
          "data": {
            "text/plain": [
              "KNeighborsClassifier()"
            ]
          },
          "metadata": {},
          "execution_count": 11
        }
      ]
    },
    {
      "cell_type": "markdown",
      "source": [
        "### Evalutaing the Model\n",
        "Next we make use of Sklearn.metrics to check how the K neighbours classifier is performing"
      ],
      "metadata": {
        "id": "BWR1dc5rG_TY"
      }
    },
    {
      "cell_type": "code",
      "source": [
        "from sklearn.metrics import accuracy_score\n",
        "y_pred = classifier.predict(x_test_norm)\n",
        "KNN_accuracy = accuracy_score(y_test,y_pred)"
      ],
      "metadata": {
        "id": "UolUMyzL2cpZ"
      },
      "execution_count": 12,
      "outputs": []
    },
    {
      "cell_type": "code",
      "source": [
        "print(f'So the accuracy for N nearest neighbours is {KNN_accuracy*100} ')"
      ],
      "metadata": {
        "colab": {
          "base_uri": "https://localhost:8080/"
        },
        "id": "w0gZmUxf2tsd",
        "outputId": "3d989e0c-8ac5-47cf-a6ae-e95173925706"
      },
      "execution_count": 13,
      "outputs": [
        {
          "output_type": "stream",
          "name": "stdout",
          "text": [
            "So the accuracy for N nearest neighbours is 85.78 \n"
          ]
        }
      ]
    },
    {
      "cell_type": "code",
      "source": [
        "from sklearn.metrics import f1_score, precision_score, recall_score\n",
        "KNN_f1_score = f1_score(y_test,y_pred, average = 'weighted')\n",
        "KNN_precision_score = precision_score(y_test,y_pred, average = 'weighted')\n",
        "KNN_recall_score = f1_score(y_test,y_pred, average = 'weighted')\n",
        "\n",
        "print(f'F1 score = {KNN_f1_score*100:.02f} \\nPrecision = {KNN_precision_score*100:.02f} \\nRecall = {KNN_recall_score*100:.02f}')"
      ],
      "metadata": {
        "colab": {
          "base_uri": "https://localhost:8080/"
        },
        "id": "ryGXBXM12-q-",
        "outputId": "59205be4-77c1-4954-b813-925db52ba081"
      },
      "execution_count": 14,
      "outputs": [
        {
          "output_type": "stream",
          "name": "stdout",
          "text": [
            "F1 score = 85.60 \n",
            "Precision = 86.23 \n",
            "Recall = 85.60\n"
          ]
        }
      ]
    },
    {
      "cell_type": "markdown",
      "source": [
        "### Plotting confusion Matrix"
      ],
      "metadata": {
        "id": "S13sweG7HEfc"
      }
    },
    {
      "cell_type": "code",
      "source": [
        "params = {'figure.figsize': (16, 9)}\n",
        "plt.rcParams.update(params)"
      ],
      "metadata": {
        "id": "F6g3DgXw_XgV"
      },
      "execution_count": 15,
      "outputs": []
    },
    {
      "cell_type": "code",
      "source": [
        "from sklearn.metrics import confusion_matrix\n",
        "cm1 = confusion_matrix(y_test,y_pred, normalize='true')"
      ],
      "metadata": {
        "id": "hSRp_AhB_AbO"
      },
      "execution_count": 16,
      "outputs": []
    },
    {
      "cell_type": "code",
      "source": [
        "from sklearn.metrics import ConfusionMatrixDisplay\n",
        "disp = ConfusionMatrixDisplay(cm1*100, display_labels=class_labels)\n",
        "disp.plot()"
      ],
      "metadata": {
        "colab": {
          "base_uri": "https://localhost:8080/",
          "height": 568
        },
        "id": "Fdp8chbq_DpR",
        "outputId": "ef5f1f28-adc4-4099-c87f-da7f3b7cd9e0"
      },
      "execution_count": 17,
      "outputs": [
        {
          "output_type": "execute_result",
          "data": {
            "text/plain": [
              "<sklearn.metrics._plot.confusion_matrix.ConfusionMatrixDisplay at 0x7fe7d40b73d0>"
            ]
          },
          "metadata": {},
          "execution_count": 17
        },
        {
          "output_type": "display_data",
          "data": {
            "text/plain": [
              "<Figure size 1152x648 with 2 Axes>"
            ],
            "image/png": "[encoded data removed]"
          },
          "metadata": {
            "needs_background": "light"
          }
        }
      ]
    },
    {
      "cell_type": "markdown",
      "source": [
        "**Note:**\n",
        "The confusion matrix has a lot of information. One particular thing to be noted is Shirt was correctly predicted only 57% times. It is due to the fact that Shirt is quite similar to a T-shirp/top , pullover and coat as well. Shirts are misidentified as these items which leads to a lower accuracy for shirt. We will see in the CNN model this accuracy will increase."
      ],
      "metadata": {
        "id": "RGVvGMurzD3R"
      }
    },
    {
      "cell_type": "markdown",
      "source": [
        "## Importing helper functions\n",
        "Next up I import some helper functions to avoid rewriting code."
      ],
      "metadata": {
        "id": "GjLMf9nVHNdC"
      }
    },
    {
      "cell_type": "code",
      "source": [
        "!wget https://raw.githubusercontent.com/Waleed-Mujahid/Coding/master/colabUtils.py"
      ],
      "metadata": {
        "colab": {
          "base_uri": "https://localhost:8080/"
        },
        "id": "jAZzl6475_je",
        "outputId": "e3fb9ef2-bb99-4943-bc43-b03553a9e1ce"
      },
      "execution_count": 18,
      "outputs": [
        {
          "output_type": "stream",
          "name": "stdout",
          "text": [
            "--2022-11-26 06:48:10--  https://raw.githubusercontent.com/Waleed-Mujahid/Coding/master/colabUtils.py\n",
            "Resolving raw.githubusercontent.com (raw.githubusercontent.com)... 185.199.108.133, 185.199.109.133, 185.199.110.133, ...\n",
            "Connecting to raw.githubusercontent.com (raw.githubusercontent.com)|185.199.108.133|:443... connected.\n",
            "HTTP request sent, awaiting response... 200 OK\n",
            "Length: 2206 (2.2K) [text/plain]\n",
            "Saving to: ‘colabUtils.py’\n",
            "\n",
            "\rcolabUtils.py         0%[                    ]       0  --.-KB/s               \rcolabUtils.py       100%[===================>]   2.15K  --.-KB/s    in 0s      \n",
            "\n",
            "2022-11-26 06:48:10 (42.6 MB/s) - ‘colabUtils.py’ saved [2206/2206]\n",
            "\n"
          ]
        }
      ]
    },
    {
      "cell_type": "code",
      "source": [
        "from colabUtils import *"
      ],
      "metadata": {
        "id": "zY4M5yUk6CAe"
      },
      "execution_count": 19,
      "outputs": []
    },
    {
      "cell_type": "markdown",
      "source": [
        "## Single Layer Neural Network\n",
        "Now we will create a neural network with only one hidden layer and fit our data to it."
      ],
      "metadata": {
        "id": "_4ANbIiiHX5L"
      }
    },
    {
      "cell_type": "markdown",
      "source": [
        "### Building our Neural Network\n",
        "\n"
      ],
      "metadata": {
        "id": "tM4EZPLTHfti"
      }
    },
    {
      "cell_type": "code",
      "source": [
        "model = Sequential()\n",
        "model.add(Dense(512, input_shape = x_train_norm[0].shape , activation = 'relu'))\n",
        "model.add(Dense(10, activation = 'softmax'))\n",
        "\n",
        "model.summary()"
      ],
      "metadata": {
        "colab": {
          "base_uri": "https://localhost:8080/"
        },
        "id": "Dfa0IOzb1XZW",
        "outputId": "420b7ca5-36e0-4925-a7aa-bbc1ed7d7288"
      },
      "execution_count": 29,
      "outputs": [
        {
          "output_type": "stream",
          "name": "stdout",
          "text": [
            "Model: \"sequential_1\"\n",
            "_________________________________________________________________\n",
            " Layer (type)                Output Shape              Param #   \n",
            "=================================================================\n",
            " dense_2 (Dense)             (None, 512)               401920    \n",
            "                                                                 \n",
            " dense_3 (Dense)             (None, 10)                5130      \n",
            "                                                                 \n",
            "=================================================================\n",
            "Total params: 407,050\n",
            "Trainable params: 407,050\n",
            "Non-trainable params: 0\n",
            "_________________________________________________________________\n"
          ]
        }
      ]
    },
    {
      "cell_type": "markdown",
      "source": [
        "### Fitting the model on Data"
      ],
      "metadata": {
        "id": "GJiFb4cDHjgm"
      }
    },
    {
      "cell_type": "code",
      "source": [
        "model.compile(loss=tf.keras.losses.sparse_categorical_crossentropy,\n",
        "optimizer=tf.keras.optimizers.Adam(learning_rate=0.001),\n",
        "metrics=['accuracy'])"
      ],
      "metadata": {
        "id": "fz8XE4yr6ZY_"
      },
      "execution_count": 30,
      "outputs": []
    },
    {
      "cell_type": "code",
      "source": [
        "history = model.fit(x_train_norm, y_train, validation_split=0.1, epochs = 20)"
      ],
      "metadata": {
        "colab": {
          "base_uri": "https://localhost:8080/"
        },
        "id": "PvyILxft5w3C",
        "outputId": "18348260-df0d-4268-f512-238e19ee44c7"
      },
      "execution_count": 31,
      "outputs": [
        {
          "output_type": "stream",
          "name": "stdout",
          "text": [
            "Epoch 1/20\n",
            "1688/1688 [==============================] - 6s 3ms/step - loss: 0.5410 - accuracy: 0.8086 - val_loss: 0.4160 - val_accuracy: 0.8492\n",
            "Epoch 2/20\n",
            "1688/1688 [==============================] - 5s 3ms/step - loss: 0.3891 - accuracy: 0.8583 - val_loss: 0.3624 - val_accuracy: 0.8667\n",
            "Epoch 3/20\n",
            "1688/1688 [==============================] - 5s 3ms/step - loss: 0.3477 - accuracy: 0.8729 - val_loss: 0.3734 - val_accuracy: 0.8560\n",
            "Epoch 4/20\n",
            "1688/1688 [==============================] - 5s 3ms/step - loss: 0.3196 - accuracy: 0.8825 - val_loss: 0.3446 - val_accuracy: 0.8753\n",
            "Epoch 5/20\n",
            "1688/1688 [==============================] - 5s 3ms/step - loss: 0.2980 - accuracy: 0.8909 - val_loss: 0.3312 - val_accuracy: 0.8768\n",
            "Epoch 6/20\n",
            "1688/1688 [==============================] - 5s 3ms/step - loss: 0.2824 - accuracy: 0.8960 - val_loss: 0.3210 - val_accuracy: 0.8837\n",
            "Epoch 7/20\n",
            "1688/1688 [==============================] - 5s 3ms/step - loss: 0.2682 - accuracy: 0.9007 - val_loss: 0.3160 - val_accuracy: 0.8833\n",
            "Epoch 8/20\n",
            "1688/1688 [==============================] - 5s 3ms/step - loss: 0.2550 - accuracy: 0.9059 - val_loss: 0.3191 - val_accuracy: 0.8817\n",
            "Epoch 9/20\n",
            "1688/1688 [==============================] - 5s 3ms/step - loss: 0.2459 - accuracy: 0.9089 - val_loss: 0.3331 - val_accuracy: 0.8762\n",
            "Epoch 10/20\n",
            "1688/1688 [==============================] - 5s 3ms/step - loss: 0.2366 - accuracy: 0.9117 - val_loss: 0.3002 - val_accuracy: 0.8928\n",
            "Epoch 11/20\n",
            "1688/1688 [==============================] - 5s 3ms/step - loss: 0.2267 - accuracy: 0.9166 - val_loss: 0.3006 - val_accuracy: 0.8945\n",
            "Epoch 12/20\n",
            "1688/1688 [==============================] - 5s 3ms/step - loss: 0.2188 - accuracy: 0.9186 - val_loss: 0.3052 - val_accuracy: 0.8888\n",
            "Epoch 13/20\n",
            "1688/1688 [==============================] - 5s 3ms/step - loss: 0.2106 - accuracy: 0.9215 - val_loss: 0.3163 - val_accuracy: 0.8908\n",
            "Epoch 14/20\n",
            "1688/1688 [==============================] - 5s 3ms/step - loss: 0.2037 - accuracy: 0.9249 - val_loss: 0.3031 - val_accuracy: 0.8940\n",
            "Epoch 15/20\n",
            "1688/1688 [==============================] - 5s 3ms/step - loss: 0.1963 - accuracy: 0.9268 - val_loss: 0.3118 - val_accuracy: 0.8903\n",
            "Epoch 16/20\n",
            "1688/1688 [==============================] - 5s 3ms/step - loss: 0.1895 - accuracy: 0.9304 - val_loss: 0.3188 - val_accuracy: 0.8872\n",
            "Epoch 17/20\n",
            "1688/1688 [==============================] - 5s 3ms/step - loss: 0.1841 - accuracy: 0.9320 - val_loss: 0.2938 - val_accuracy: 0.8938\n",
            "Epoch 18/20\n",
            "1688/1688 [==============================] - 5s 3ms/step - loss: 0.1770 - accuracy: 0.9348 - val_loss: 0.3066 - val_accuracy: 0.8925\n",
            "Epoch 19/20\n",
            "1688/1688 [==============================] - 5s 3ms/step - loss: 0.1726 - accuracy: 0.9358 - val_loss: 0.3184 - val_accuracy: 0.8922\n",
            "Epoch 20/20\n",
            "1688/1688 [==============================] - 5s 3ms/step - loss: 0.1659 - accuracy: 0.9387 - val_loss: 0.3067 - val_accuracy: 0.8975\n"
          ]
        }
      ]
    },
    {
      "cell_type": "markdown",
      "source": [
        "now lets take a look at home our model trained"
      ],
      "metadata": {
        "id": "MZvNAgw-HtfP"
      }
    },
    {
      "cell_type": "code",
      "source": [
        "plotAccuracy(history,True)"
      ],
      "metadata": {
        "colab": {
          "base_uri": "https://localhost:8080/",
          "height": 295
        },
        "id": "wSfXHphJ6lK8",
        "outputId": "cf33b269-aea7-4e03-ca5f-2f31a6928302"
      },
      "execution_count": 32,
      "outputs": [
        {
          "output_type": "display_data",
          "data": {
            "text/plain": [
              "<Figure size 504x288 with 1 Axes>"
            ],
            "image/png": "[encoded data removed]"
          },
          "metadata": {
            "needs_background": "light"
          }
        }
      ]
    },
    {
      "cell_type": "markdown",
      "source": [
        "### Evaluating the Model"
      ],
      "metadata": {
        "id": "Y1mmzv0JHxKi"
      }
    },
    {
      "cell_type": "code",
      "source": [
        "loss, accuracy_nn = model.evaluate(x_test_norm,y_test)"
      ],
      "metadata": {
        "colab": {
          "base_uri": "https://localhost:8080/"
        },
        "id": "y5w0eKe26rr3",
        "outputId": "5530d790-ea37-4602-9ead-e14778f055eb"
      },
      "execution_count": 38,
      "outputs": [
        {
          "output_type": "stream",
          "name": "stdout",
          "text": [
            "313/313 [==============================] - 1s 2ms/step - loss: 0.3271 - accuracy: 0.8935\n"
          ]
        }
      ]
    },
    {
      "cell_type": "code",
      "source": [
        "print(f\"The accuracy received on Test data is: {accuracy_nn*100:.2f}%\")"
      ],
      "metadata": {
        "colab": {
          "base_uri": "https://localhost:8080/"
        },
        "id": "ct32Jikz7AAV",
        "outputId": "7da21072-03a7-426c-85aa-9aabedcc504b"
      },
      "execution_count": 39,
      "outputs": [
        {
          "output_type": "stream",
          "name": "stdout",
          "text": [
            "The accuracy received on Test data is: 89.35%\n"
          ]
        }
      ]
    },
    {
      "cell_type": "code",
      "source": [
        "from sklearn.metrics import f1_score, precision_score, recall_score\n",
        "\n",
        "y_pred2 = model.predict(x_test_norm)\n",
        "y_pred2 = np.argmax(y_pred2, axis=1)\n",
        "NN_f1_score = f1_score(y_test,y_pred2, average = 'weighted')\n",
        "NN_precision_score = precision_score(y_test,y_pred2, average = 'weighted')\n",
        "NN_recall_score = f1_score(y_test,y_pred2, average = 'weighted')\n",
        "\n",
        "print(f'F1 score = {NN_f1_score*100:.02f} \\nPrecision = {NN_precision_score*100:.02f} \\nRecall = {NN_recall_score*100:.02f}')"
      ],
      "metadata": {
        "colab": {
          "base_uri": "https://localhost:8080/"
        },
        "id": "_kVQH_7aAaB1",
        "outputId": "800eadda-e1fc-4931-fea4-a1fc3b8b2bba"
      },
      "execution_count": 40,
      "outputs": [
        {
          "output_type": "stream",
          "name": "stdout",
          "text": [
            "313/313 [==============================] - 0s 2ms/step\n",
            "F1 score = 89.34 \n",
            "Precision = 89.38 \n",
            "Recall = 89.34\n"
          ]
        }
      ]
    },
    {
      "cell_type": "markdown",
      "source": [
        "### Plotting a Confusion Matrix"
      ],
      "metadata": {
        "id": "QBWx7oaRIbvx"
      }
    },
    {
      "cell_type": "code",
      "source": [
        "from sklearn.metrics import confusion_matrix\n",
        "cm2 = confusion_matrix(y_test,y_pred2, normalize='true')"
      ],
      "metadata": {
        "id": "43x3DkVjIeFj"
      },
      "execution_count": 41,
      "outputs": []
    },
    {
      "cell_type": "code",
      "source": [
        "from sklearn.metrics import ConfusionMatrixDisplay\n",
        "disp = ConfusionMatrixDisplay(cm2*100, display_labels=class_labels)\n",
        "disp.plot()"
      ],
      "metadata": {
        "colab": {
          "base_uri": "https://localhost:8080/",
          "height": 568
        },
        "id": "dOZRDOy6IleQ",
        "outputId": "1b018861-940c-49d4-e1fa-0a188459bdab"
      },
      "execution_count": 42,
      "outputs": [
        {
          "output_type": "execute_result",
          "data": {
            "text/plain": [
              "<sklearn.metrics._plot.confusion_matrix.ConfusionMatrixDisplay at 0x7fe7564e9910>"
            ]
          },
          "metadata": {},
          "execution_count": 42
        },
        {
          "output_type": "display_data",
          "data": {
            "text/plain": [
              "<Figure size 1152x648 with 2 Axes>"
            ],
            "image/png": "[encoded data removed]"
          },
          "metadata": {
            "needs_background": "light"
          }
        }
      ]
    },
    {
      "cell_type": "markdown",
      "source": [
        "Here we can note that the accuracy for shirt is still poor."
      ],
      "metadata": {
        "id": "LchZVqAz4m2Z"
      }
    },
    {
      "cell_type": "markdown",
      "source": [
        "## Convulotional Neural Network"
      ],
      "metadata": {
        "id": "gkz5zpz4ItPD"
      }
    },
    {
      "cell_type": "markdown",
      "source": [
        "First we resize our data bach into 2d images as it is a requirement for Conv layers."
      ],
      "metadata": {
        "id": "jtTFoYcaI0R0"
      }
    },
    {
      "cell_type": "code",
      "source": [
        "x_train_norm = x_train_norm.reshape(x_train_norm.shape[0],img_size,img_size)\n",
        "x_test_norm = x_test_norm.reshape(x_test_norm.shape[0],img_size,img_size)"
      ],
      "metadata": {
        "id": "sDkznmLJ7F-0"
      },
      "execution_count": 43,
      "outputs": []
    },
    {
      "cell_type": "code",
      "source": [
        "print(x_train_norm.shape,x_test_norm.shape)\n",
        "print(y_train.shape)"
      ],
      "metadata": {
        "colab": {
          "base_uri": "https://localhost:8080/"
        },
        "id": "bC8Qhtge7V5J",
        "outputId": "576c713a-010e-41ed-f1ef-406fe7e52789"
      },
      "execution_count": 44,
      "outputs": [
        {
          "output_type": "stream",
          "name": "stdout",
          "text": [
            "(60000, 28, 28) (10000, 28, 28)\n",
            "(60000,)\n"
          ]
        }
      ]
    },
    {
      "cell_type": "markdown",
      "source": [
        "### Building our CNN"
      ],
      "metadata": {
        "id": "VHlyzGbOI9Wd"
      }
    },
    {
      "cell_type": "code",
      "source": [
        "model2 = Sequential()\n",
        "model2.add(Conv2D(32, (5, 5), padding = 'same' , input_shape=(img_size,img_size,1)))  # Input size of all images must be standard for model\n",
        "model2.add(keras.layers.Activation('relu'))\n",
        "model2.add(Conv2D(32, (5, 5), padding = 'same'))\n",
        "model2.add(keras.layers.Activation('relu'))\n",
        "model2.add(MaxPooling2D(strides=2))\n",
        "model2.add(Dropout(0.4))\n",
        "\n",
        "model2.add(Conv2D(64, (5, 5) , padding = 'same'))\n",
        "model2.add(keras.layers.Activation('relu'))\n",
        "model2.add(Conv2D(64, (5, 5) , padding = 'same'))\n",
        "model2.add(keras.layers.Activation('relu'))\n",
        "model2.add(MaxPooling2D(strides=2))\n",
        "model2.add(Dropout(0.4))\n",
        "\n",
        "model2.add(Conv2D(128, (3, 3) , padding = 'same'))\n",
        "model2.add(keras.layers.Activation('relu'))\n",
        "model2.add(Conv2D(128, (3, 3) , padding = 'same'))\n",
        "model2.add(keras.layers.Activation('relu'))\n",
        "model2.add(MaxPooling2D(strides=2))\n",
        "model2.add(Dropout(0.4))\n",
        "\n",
        "\n",
        "model2.add(Flatten())\n",
        "model2.add(Dense(10, activation='softmax')) \n",
        "\n",
        "model2.summary()"
      ],
      "metadata": {
        "colab": {
          "base_uri": "https://localhost:8080/"
        },
        "id": "jSFDZGrx7czP",
        "outputId": "a48ded15-4216-4a68-f18b-dc17690d4a11"
      },
      "execution_count": 45,
      "outputs": [
        {
          "output_type": "stream",
          "name": "stdout",
          "text": [
            "Model: \"sequential_2\"\n",
            "_________________________________________________________________\n",
            " Layer (type)                Output Shape              Param #   \n",
            "=================================================================\n",
            " conv2d (Conv2D)             (None, 28, 28, 32)        832       \n",
            "                                                                 \n",
            " activation (Activation)     (None, 28, 28, 32)        0         \n",
            "                                                                 \n",
            " conv2d_1 (Conv2D)           (None, 28, 28, 32)        25632     \n",
            "                                                                 \n",
            " activation_1 (Activation)   (None, 28, 28, 32)        0         \n",
            "                                                                 \n",
            " max_pooling2d (MaxPooling2D  (None, 14, 14, 32)       0         \n",
            " )                                                               \n",
            "                                                                 \n",
            " dropout (Dropout)           (None, 14, 14, 32)        0         \n",
            "                                                                 \n",
            " conv2d_2 (Conv2D)           (None, 14, 14, 64)        51264     \n",
            "                                                                 \n",
            " activation_2 (Activation)   (None, 14, 14, 64)        0         \n",
            "                                                                 \n",
            " conv2d_3 (Conv2D)           (None, 14, 14, 64)        102464    \n",
            "                                                                 \n",
            " activation_3 (Activation)   (None, 14, 14, 64)        0         \n",
            "                                                                 \n",
            " max_pooling2d_1 (MaxPooling  (None, 7, 7, 64)         0         \n",
            " 2D)                                                             \n",
            "                                                                 \n",
            " dropout_1 (Dropout)         (None, 7, 7, 64)          0         \n",
            "                                                                 \n",
            " conv2d_4 (Conv2D)           (None, 7, 7, 128)         73856     \n",
            "                                                                 \n",
            " activation_4 (Activation)   (None, 7, 7, 128)         0         \n",
            "                                                                 \n",
            " conv2d_5 (Conv2D)           (None, 7, 7, 128)         147584    \n",
            "                                                                 \n",
            " activation_5 (Activation)   (None, 7, 7, 128)         0         \n",
            "                                                                 \n",
            " max_pooling2d_2 (MaxPooling  (None, 3, 3, 128)        0         \n",
            " 2D)                                                             \n",
            "                                                                 \n",
            " dropout_2 (Dropout)         (None, 3, 3, 128)         0         \n",
            "                                                                 \n",
            " flatten (Flatten)           (None, 1152)              0         \n",
            "                                                                 \n",
            " dense_4 (Dense)             (None, 10)                11530     \n",
            "                                                                 \n",
            "=================================================================\n",
            "Total params: 413,162\n",
            "Trainable params: 413,162\n",
            "Non-trainable params: 0\n",
            "_________________________________________________________________\n"
          ]
        }
      ]
    },
    {
      "cell_type": "markdown",
      "source": [
        "### Fitting our CNN"
      ],
      "metadata": {
        "id": "1Jm18S_0JB2d"
      }
    },
    {
      "cell_type": "code",
      "source": [
        "model2.compile(loss=tf.keras.losses.sparse_categorical_crossentropy,\n",
        "optimizer=tf.keras.optimizers.Adam(learning_rate=0.001),\n",
        "metrics=['accuracy'])"
      ],
      "metadata": {
        "id": "6p87tfaV8LEA"
      },
      "execution_count": 46,
      "outputs": []
    },
    {
      "cell_type": "code",
      "source": [
        "history2 = model2.fit(x_train_norm, y_train, validation_split=0.1, epochs = 20)"
      ],
      "metadata": {
        "colab": {
          "base_uri": "https://localhost:8080/"
        },
        "id": "4uggh0hU8aM1",
        "outputId": "5bd02b5a-71aa-4e75-f779-4efdc0e1dcb5"
      },
      "execution_count": 47,
      "outputs": [
        {
          "metadata": {
            "tags": null
          },
          "name": "stdout",
          "output_type": "stream",
          "text": [
            "Epoch 1/20\n",
            "1688/1688 [==============================] - 17s 6ms/step - loss: 0.5811 - accuracy: 0.7854 - val_loss: 0.3622 - val_accuracy: 0.8613\n",
            "Epoch 2/20\n",
            "1688/1688 [==============================] - 10s 6ms/step - loss: 0.3711 - accuracy: 0.8625 - val_loss: 0.3140 - val_accuracy: 0.8832\n",
            "Epoch 3/20\n",
            "1688/1688 [==============================] - 10s 6ms/step - loss: 0.3292 - accuracy: 0.8781 - val_loss: 0.2983 - val_accuracy: 0.8892\n",
            "Epoch 4/20\n",
            "1688/1688 [==============================] - 9s 6ms/step - loss: 0.3046 - accuracy: 0.8863 - val_loss: 0.2720 - val_accuracy: 0.8973\n",
            "Epoch 5/20\n",
            "1688/1688 [==============================] - 10s 6ms/step - loss: 0.2855 - accuracy: 0.8936 - val_loss: 0.2564 - val_accuracy: 0.9038\n",
            "Epoch 6/20\n",
            "1688/1688 [==============================] - 9s 6ms/step - loss: 0.2734 - accuracy: 0.8980 - val_loss: 0.2455 - val_accuracy: 0.9068\n",
            "Epoch 7/20\n",
            "1688/1688 [==============================] - 10s 6ms/step - loss: 0.2639 - accuracy: 0.9017 - val_loss: 0.2429 - val_accuracy: 0.9122\n",
            "Epoch 8/20\n",
            "1688/1688 [==============================] - 10s 6ms/step - loss: 0.2564 - accuracy: 0.9051 - val_loss: 0.2419 - val_accuracy: 0.9132\n",
            "Epoch 9/20\n",
            "1688/1688 [==============================] - 9s 6ms/step - loss: 0.2496 - accuracy: 0.9068 - val_loss: 0.2487 - val_accuracy: 0.9058\n",
            "Epoch 10/20\n",
            "1688/1688 [==============================] - 9s 6ms/step - loss: 0.2464 - accuracy: 0.9084 - val_loss: 0.2299 - val_accuracy: 0.9170\n",
            "Epoch 11/20\n",
            "1688/1688 [==============================] - 9s 6ms/step - loss: 0.2385 - accuracy: 0.9124 - val_loss: 0.2435 - val_accuracy: 0.9137\n",
            "Epoch 12/20\n",
            "1688/1688 [==============================] - 10s 6ms/step - loss: 0.2376 - accuracy: 0.9116 - val_loss: 0.2332 - val_accuracy: 0.9113\n",
            "Epoch 13/20\n",
            "1688/1688 [==============================] - 9s 6ms/step - loss: 0.2370 - accuracy: 0.9105 - val_loss: 0.2318 - val_accuracy: 0.9135\n",
            "Epoch 14/20\n",
            "1688/1688 [==============================] - 9s 6ms/step - loss: 0.2388 - accuracy: 0.9105 - val_loss: 0.2358 - val_accuracy: 0.9177\n",
            "Epoch 15/20\n",
            "1688/1688 [==============================] - 10s 6ms/step - loss: 0.2362 - accuracy: 0.9117 - val_loss: 0.2318 - val_accuracy: 0.9147\n",
            "Epoch 16/20\n",
            "1688/1688 [==============================] - 10s 6ms/step - loss: 0.2336 - accuracy: 0.9127 - val_loss: 0.2389 - val_accuracy: 0.9152\n",
            "Epoch 17/20\n",
            "1688/1688 [==============================] - 10s 6ms/step - loss: 0.2331 - accuracy: 0.9135 - val_loss: 0.2412 - val_accuracy: 0.9122\n",
            "Epoch 18/20\n",
            "1688/1688 [==============================] - 10s 6ms/step - loss: 0.2300 - accuracy: 0.9154 - val_loss: 0.2256 - val_accuracy: 0.9207\n",
            "Epoch 19/20\n",
            "1688/1688 [==============================] - 10s 6ms/step - loss: 0.2297 - accuracy: 0.9148 - val_loss: 0.2433 - val_accuracy: 0.9193\n",
            "Epoch 20/20\n",
            "1688/1688 [==============================] - 9s 6ms/step - loss: 0.2279 - accuracy: 0.9153 - val_loss: 0.2413 - val_accuracy: 0.9152\n"
          ]
        }
      ]
    },
    {
      "cell_type": "markdown",
      "source": [
        "Now lets take a look at how our model trained."
      ],
      "metadata": {
        "id": "ga5bVXFvJF4f"
      }
    },
    {
      "cell_type": "code",
      "source": [
        "plotAccuracy(history2,True)"
      ],
      "metadata": {
        "colab": {
          "base_uri": "https://localhost:8080/",
          "height": 295
        },
        "id": "xNJtw3JZ8vpc",
        "outputId": "cabed7b0-b09c-47b6-8ee4-f79d7c1d4d60"
      },
      "execution_count": 49,
      "outputs": [
        {
          "output_type": "display_data",
          "data": {
            "text/plain": [
              "<Figure size 504x288 with 1 Axes>"
            ],
            "image/png": "[encoded data removed]"
          },
          "metadata": {
            "needs_background": "light"
          }
        }
      ]
    },
    {
      "cell_type": "markdown",
      "source": [
        "### Evaluating our CNN"
      ],
      "metadata": {
        "id": "s82UVkp7JNmU"
      }
    },
    {
      "cell_type": "code",
      "source": [
        "loss_cnn, accuracy_cnn = model2.evaluate(x_test_norm,y_test)"
      ],
      "metadata": {
        "colab": {
          "base_uri": "https://localhost:8080/"
        },
        "id": "3-5e5TEx-Z81",
        "outputId": "3fc1b92c-1a0f-4c2d-9ada-68c0c8c5748a"
      },
      "execution_count": 50,
      "outputs": [
        {
          "output_type": "stream",
          "name": "stdout",
          "text": [
            "313/313 [==============================] - 1s 4ms/step - loss: 0.2474 - accuracy: 0.9126\n"
          ]
        }
      ]
    },
    {
      "cell_type": "code",
      "source": [
        "print(f\"The accuracy received on Test data is: {accuracy_cnn*100:.2f}%\")"
      ],
      "metadata": {
        "colab": {
          "base_uri": "https://localhost:8080/"
        },
        "id": "_jw79QwS-i8c",
        "outputId": "2e385f74-e557-4462-a3e4-1d74b4ec5ba8"
      },
      "execution_count": 51,
      "outputs": [
        {
          "output_type": "stream",
          "name": "stdout",
          "text": [
            "The accuracy received on Test data is: 91.26%\n"
          ]
        }
      ]
    },
    {
      "cell_type": "code",
      "source": [
        "from sklearn.metrics import f1_score, precision_score, recall_score\n",
        "\n",
        "y_pred3 = model2.predict(x_test_norm)\n",
        "y_pred3 = np.argmax(y_pred3, axis=1)\n",
        "CNN_f1_score = f1_score(y_test,y_pred3, average = 'weighted')\n",
        "CNN_precision_score = precision_score(y_test,y_pred3, average = 'weighted')\n",
        "CNN_recall_score = f1_score(y_test,y_pred3, average = 'weighted')\n",
        "\n",
        "print(f'F1 score = {CNN_f1_score*100:.02f} \\nPrecision = {CNN_precision_score*100:.02f} \\nRecall = {CNN_recall_score*100:.02f}')"
      ],
      "metadata": {
        "colab": {
          "base_uri": "https://localhost:8080/"
        },
        "id": "YVPIQZAA-xrA",
        "outputId": "c0b845dc-4ad8-41da-d57b-c8d4e64f5a69"
      },
      "execution_count": 52,
      "outputs": [
        {
          "output_type": "stream",
          "name": "stdout",
          "text": [
            "313/313 [==============================] - 1s 2ms/step\n",
            "F1 score = 91.33 \n",
            "Precision = 91.46 \n",
            "Recall = 91.33\n"
          ]
        }
      ]
    },
    {
      "cell_type": "markdown",
      "source": [
        "Plotting a Confusion Matrix"
      ],
      "metadata": {
        "id": "qLFImyicJQoE"
      }
    },
    {
      "cell_type": "code",
      "source": [
        "from sklearn.metrics import confusion_matrix\n",
        "cm3 = confusion_matrix(y_test,y_pred3, normalize='true')"
      ],
      "metadata": {
        "id": "PoTyKT3tJW6Q"
      },
      "execution_count": 53,
      "outputs": []
    },
    {
      "cell_type": "code",
      "source": [
        "from sklearn.metrics import ConfusionMatrixDisplay\n",
        "disp = ConfusionMatrixDisplay(cm3*100, display_labels=class_labels)\n",
        "disp.plot()"
      ],
      "metadata": {
        "colab": {
          "base_uri": "https://localhost:8080/",
          "height": 568
        },
        "id": "sOuKOmXrJcPl",
        "outputId": "6099d411-479b-4dc7-e382-064a9d26bc1e"
      },
      "execution_count": 54,
      "outputs": [
        {
          "output_type": "execute_result",
          "data": {
            "text/plain": [
              "<sklearn.metrics._plot.confusion_matrix.ConfusionMatrixDisplay at 0x7fe74473f8d0>"
            ]
          },
          "metadata": {},
          "execution_count": 54
        },
        {
          "output_type": "display_data",
          "data": {
            "text/plain": [
              "<Figure size 1152x648 with 2 Axes>"
            ],
            "image/png": "[encoded data removed]"
          },
          "metadata": {
            "needs_background": "light"
          }
        }
      ]
    },
    {
      "cell_type": "markdown",
      "source": [
        "Here we can note that the accuracy of shirt has increase from 57 to 74 by using a convolutional neural network. This is due to the fact that convulotional neural networks are great for finding patterns in images. This is also why we got highest accuracy and F1 score for the CNN model."
      ],
      "metadata": {
        "id": "xs7TDYg-4dWq"
      }
    },
    {
      "cell_type": "code",
      "source": [
        "accuracy = [KNN_accuracy,accuracy_nn,accuracy_cnn]\n",
        "precision = [KNN_precision_score,NN_precision_score,CNN_precision_score]\n",
        "recall = [KNN_recall_score,NN_recall_score,CNN_recall_score]\n",
        "f1_score = [KNN_f1_score,NN_f1_score,CNN_f1_score]\n",
        "x = ['K Nearest Neighbors',\"Single layer NN\", \"CNN\"]\n",
        "from pylab import rcParams\n",
        "rcParams['figure.figsize'] = 12, 6\n",
        "fig, ax = plt.subplots()\n",
        "ax.plot(x,accuracy)\n",
        "ax.plot(x,precision)\n",
        "ax.plot(x,recall)\n",
        "ax.plot(x,f1_score)\n",
        "ax.set_xticks(x)\n",
        "plt.xlabel(\"Type of model used\", fontsize = 16)\n",
        "plt.ylabel(\"Accuracy of model\", fontsize = 16)\n",
        "plt.legend(['Accuracy', 'Precision', 'Recall', 'F1_score'], loc='upper left')\n",
        "plt.title(\"Accuracy of various models for Fashion mnist Data\", fontsize = 20)\n",
        "plt.show()"
      ],
      "metadata": {
        "colab": {
          "base_uri": "https://localhost:8080/",
          "height": 414
        },
        "id": "N-5BKAxFCBxU",
        "outputId": "eb23aebf-caba-49ff-ae34-048a27367c57"
      },
      "execution_count": 55,
      "outputs": [
        {
          "output_type": "display_data",
          "data": {
            "text/plain": [
              "<Figure size 864x432 with 1 Axes>"
            ],
            "image/png": "[encoded data removed]"
          },
          "metadata": {
            "needs_background": "light"
          }
        }
      ]
    },
    {
      "cell_type": "markdown",
      "source": [
        "Above graph demonstrates how using a Neural network is  better for image classification and how adding Convulotional layers to our neural network can boost our model's accuracy."
      ],
      "metadata": {
        "id": "VxWyM2wd47Il"
      }
    }
  ]
}